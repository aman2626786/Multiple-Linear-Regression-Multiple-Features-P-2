{
 "cells": [
  {
   "cell_type": "code",
   "execution_count": 1,
   "id": "cc142ab5",
   "metadata": {
    "_cell_guid": "b1076dfc-b9ad-4769-8c92-a6c4dae69d19",
    "_uuid": "8f2839f25d086af736a60e9eeb907d3b93b6e0e5",
    "execution": {
     "iopub.execute_input": "2025-03-08T04:30:09.290559Z",
     "iopub.status.busy": "2025-03-08T04:30:09.290215Z",
     "iopub.status.idle": "2025-03-08T04:30:10.305822Z",
     "shell.execute_reply": "2025-03-08T04:30:10.304802Z"
    },
    "papermill": {
     "duration": 1.02542,
     "end_time": "2025-03-08T04:30:10.307747",
     "exception": false,
     "start_time": "2025-03-08T04:30:09.282327",
     "status": "completed"
    },
    "tags": []
   },
   "outputs": [],
   "source": [
    "# This Python 3 environment comes with many helpful analytics libraries installed\n",
    "# It is defined by the kaggle/python Docker image: https://github.com/kaggle/docker-python\n",
    "# For example, here's several helpful packages to load\n",
    "\n",
    "import numpy as np # linear algebra\n",
    "import pandas as pd # data processing, CSV file I/O (e.g. pd.read_csv)\n",
    "\n",
    "# Input data files are available in the read-only \"../input/\" directory\n",
    "# For example, running this (by clicking run or pressing Shift+Enter) will list all files under the input directory\n",
    "\n",
    "import os\n",
    "for dirname, _, filenames in os.walk('/kaggle/input'):\n",
    "    for filename in filenames:\n",
    "        print(os.path.join(dirname, filename))\n",
    "\n",
    "# You can write up to 20GB to the current directory (/kaggle/working/) that gets preserved as output when you create a version using \"Save & Run All\" \n",
    "# You can also write temporary files to /kaggle/temp/, but they won't be saved outside of the current session"
   ]
  },
  {
   "cell_type": "markdown",
   "id": "95d3b108",
   "metadata": {
    "papermill": {
     "duration": 0.005685,
     "end_time": "2025-03-08T04:30:10.319910",
     "exception": false,
     "start_time": "2025-03-08T04:30:10.314225",
     "status": "completed"
    },
    "tags": []
   },
   "source": [
    "# Here we are doing two stapes:\n",
    "1. Train and Predict the model using the Linear Regression Library\n",
    "2. Making our own Linear Regression Class"
   ]
  },
  {
   "cell_type": "markdown",
   "id": "697af40b",
   "metadata": {
    "papermill": {
     "duration": 0.006147,
     "end_time": "2025-03-08T04:30:10.332391",
     "exception": false,
     "start_time": "2025-03-08T04:30:10.326244",
     "status": "completed"
    },
    "tags": []
   },
   "source": [
    "**Using Sklearn import the load_diabetes dataset.**\n",
    "Manual Link : https://scikit-learn.org/stable/modules/generated/sklearn.datasets.load_diabetes.html"
   ]
  },
  {
   "cell_type": "code",
   "execution_count": 2,
   "id": "9fabb530",
   "metadata": {
    "execution": {
     "iopub.execute_input": "2025-03-08T04:30:10.345807Z",
     "iopub.status.busy": "2025-03-08T04:30:10.345295Z",
     "iopub.status.idle": "2025-03-08T04:30:11.906076Z",
     "shell.execute_reply": "2025-03-08T04:30:11.904976Z"
    },
    "papermill": {
     "duration": 1.569447,
     "end_time": "2025-03-08T04:30:11.908098",
     "exception": false,
     "start_time": "2025-03-08T04:30:10.338651",
     "status": "completed"
    },
    "tags": []
   },
   "outputs": [],
   "source": [
    "from sklearn.datasets import load_diabetes"
   ]
  },
  {
   "cell_type": "code",
   "execution_count": 3,
   "id": "de488426",
   "metadata": {
    "execution": {
     "iopub.execute_input": "2025-03-08T04:30:11.921395Z",
     "iopub.status.busy": "2025-03-08T04:30:11.920676Z",
     "iopub.status.idle": "2025-03-08T04:30:11.938238Z",
     "shell.execute_reply": "2025-03-08T04:30:11.936921Z"
    },
    "papermill": {
     "duration": 0.026201,
     "end_time": "2025-03-08T04:30:11.940277",
     "exception": false,
     "start_time": "2025-03-08T04:30:11.914076",
     "status": "completed"
    },
    "tags": []
   },
   "outputs": [],
   "source": [
    "x,y = load_diabetes(return_X_y=True)"
   ]
  },
  {
   "cell_type": "code",
   "execution_count": 4,
   "id": "220053e7",
   "metadata": {
    "execution": {
     "iopub.execute_input": "2025-03-08T04:30:11.953710Z",
     "iopub.status.busy": "2025-03-08T04:30:11.953288Z",
     "iopub.status.idle": "2025-03-08T04:30:11.960702Z",
     "shell.execute_reply": "2025-03-08T04:30:11.959724Z"
    },
    "papermill": {
     "duration": 0.016036,
     "end_time": "2025-03-08T04:30:11.962480",
     "exception": false,
     "start_time": "2025-03-08T04:30:11.946444",
     "status": "completed"
    },
    "tags": []
   },
   "outputs": [
    {
     "data": {
      "text/plain": [
       "array([[ 0.03807591,  0.05068012,  0.06169621, ..., -0.00259226,\n",
       "         0.01990749, -0.01764613],\n",
       "       [-0.00188202, -0.04464164, -0.05147406, ..., -0.03949338,\n",
       "        -0.06833155, -0.09220405],\n",
       "       [ 0.08529891,  0.05068012,  0.04445121, ..., -0.00259226,\n",
       "         0.00286131, -0.02593034],\n",
       "       ...,\n",
       "       [ 0.04170844,  0.05068012, -0.01590626, ..., -0.01107952,\n",
       "        -0.04688253,  0.01549073],\n",
       "       [-0.04547248, -0.04464164,  0.03906215, ...,  0.02655962,\n",
       "         0.04452873, -0.02593034],\n",
       "       [-0.04547248, -0.04464164, -0.0730303 , ..., -0.03949338,\n",
       "        -0.00422151,  0.00306441]])"
      ]
     },
     "execution_count": 4,
     "metadata": {},
     "output_type": "execute_result"
    }
   ],
   "source": [
    "x"
   ]
  },
  {
   "cell_type": "code",
   "execution_count": 5,
   "id": "42b9ab2d",
   "metadata": {
    "execution": {
     "iopub.execute_input": "2025-03-08T04:30:11.976212Z",
     "iopub.status.busy": "2025-03-08T04:30:11.975805Z",
     "iopub.status.idle": "2025-03-08T04:30:11.982414Z",
     "shell.execute_reply": "2025-03-08T04:30:11.981032Z"
    },
    "papermill": {
     "duration": 0.015539,
     "end_time": "2025-03-08T04:30:11.984251",
     "exception": false,
     "start_time": "2025-03-08T04:30:11.968712",
     "status": "completed"
    },
    "tags": []
   },
   "outputs": [
    {
     "data": {
      "text/plain": [
       "(442, 10)"
      ]
     },
     "execution_count": 5,
     "metadata": {},
     "output_type": "execute_result"
    }
   ],
   "source": [
    "x.shape"
   ]
  },
  {
   "cell_type": "code",
   "execution_count": 6,
   "id": "53b8bb71",
   "metadata": {
    "execution": {
     "iopub.execute_input": "2025-03-08T04:30:12.000180Z",
     "iopub.status.busy": "2025-03-08T04:30:11.999812Z",
     "iopub.status.idle": "2025-03-08T04:30:12.008839Z",
     "shell.execute_reply": "2025-03-08T04:30:12.007528Z"
    },
    "papermill": {
     "duration": 0.020167,
     "end_time": "2025-03-08T04:30:12.010653",
     "exception": false,
     "start_time": "2025-03-08T04:30:11.990486",
     "status": "completed"
    },
    "tags": []
   },
   "outputs": [
    {
     "data": {
      "text/plain": [
       "array([151.,  75., 141., 206., 135.,  97., 138.,  63., 110., 310., 101.,\n",
       "        69., 179., 185., 118., 171., 166., 144.,  97., 168.,  68.,  49.,\n",
       "        68., 245., 184., 202., 137.,  85., 131., 283., 129.,  59., 341.,\n",
       "        87.,  65., 102., 265., 276., 252.,  90., 100.,  55.,  61.,  92.,\n",
       "       259.,  53., 190., 142.,  75., 142., 155., 225.,  59., 104., 182.,\n",
       "       128.,  52.,  37., 170., 170.,  61., 144.,  52., 128.,  71., 163.,\n",
       "       150.,  97., 160., 178.,  48., 270., 202., 111.,  85.,  42., 170.,\n",
       "       200., 252., 113., 143.,  51.,  52., 210.,  65., 141.,  55., 134.,\n",
       "        42., 111.,  98., 164.,  48.,  96.,  90., 162., 150., 279.,  92.,\n",
       "        83., 128., 102., 302., 198.,  95.,  53., 134., 144., 232.,  81.,\n",
       "       104.,  59., 246., 297., 258., 229., 275., 281., 179., 200., 200.,\n",
       "       173., 180.,  84., 121., 161.,  99., 109., 115., 268., 274., 158.,\n",
       "       107.,  83., 103., 272.,  85., 280., 336., 281., 118., 317., 235.,\n",
       "        60., 174., 259., 178., 128.,  96., 126., 288.,  88., 292.,  71.,\n",
       "       197., 186.,  25.,  84.,  96., 195.,  53., 217., 172., 131., 214.,\n",
       "        59.,  70., 220., 268., 152.,  47.,  74., 295., 101., 151., 127.,\n",
       "       237., 225.,  81., 151., 107.,  64., 138., 185., 265., 101., 137.,\n",
       "       143., 141.,  79., 292., 178.,  91., 116.,  86., 122.,  72., 129.,\n",
       "       142.,  90., 158.,  39., 196., 222., 277.,  99., 196., 202., 155.,\n",
       "        77., 191.,  70.,  73.,  49.,  65., 263., 248., 296., 214., 185.,\n",
       "        78.,  93., 252., 150.,  77., 208.,  77., 108., 160.,  53., 220.,\n",
       "       154., 259.,  90., 246., 124.,  67.,  72., 257., 262., 275., 177.,\n",
       "        71.,  47., 187., 125.,  78.,  51., 258., 215., 303., 243.,  91.,\n",
       "       150., 310., 153., 346.,  63.,  89.,  50.,  39., 103., 308., 116.,\n",
       "       145.,  74.,  45., 115., 264.,  87., 202., 127., 182., 241.,  66.,\n",
       "        94., 283.,  64., 102., 200., 265.,  94., 230., 181., 156., 233.,\n",
       "        60., 219.,  80.,  68., 332., 248.,  84., 200.,  55.,  85.,  89.,\n",
       "        31., 129.,  83., 275.,  65., 198., 236., 253., 124.,  44., 172.,\n",
       "       114., 142., 109., 180., 144., 163., 147.,  97., 220., 190., 109.,\n",
       "       191., 122., 230., 242., 248., 249., 192., 131., 237.,  78., 135.,\n",
       "       244., 199., 270., 164.,  72.,  96., 306.,  91., 214.,  95., 216.,\n",
       "       263., 178., 113., 200., 139., 139.,  88., 148.,  88., 243.,  71.,\n",
       "        77., 109., 272.,  60.,  54., 221.,  90., 311., 281., 182., 321.,\n",
       "        58., 262., 206., 233., 242., 123., 167.,  63., 197.,  71., 168.,\n",
       "       140., 217., 121., 235., 245.,  40.,  52., 104., 132.,  88.,  69.,\n",
       "       219.,  72., 201., 110.,  51., 277.,  63., 118.,  69., 273., 258.,\n",
       "        43., 198., 242., 232., 175.,  93., 168., 275., 293., 281.,  72.,\n",
       "       140., 189., 181., 209., 136., 261., 113., 131., 174., 257.,  55.,\n",
       "        84.,  42., 146., 212., 233.,  91., 111., 152., 120.,  67., 310.,\n",
       "        94., 183.,  66., 173.,  72.,  49.,  64.,  48., 178., 104., 132.,\n",
       "       220.,  57.])"
      ]
     },
     "execution_count": 6,
     "metadata": {},
     "output_type": "execute_result"
    }
   ],
   "source": [
    "y"
   ]
  },
  {
   "cell_type": "code",
   "execution_count": 7,
   "id": "962ca0d7",
   "metadata": {
    "execution": {
     "iopub.execute_input": "2025-03-08T04:30:12.025202Z",
     "iopub.status.busy": "2025-03-08T04:30:12.024838Z",
     "iopub.status.idle": "2025-03-08T04:30:12.031062Z",
     "shell.execute_reply": "2025-03-08T04:30:12.029838Z"
    },
    "papermill": {
     "duration": 0.015917,
     "end_time": "2025-03-08T04:30:12.033219",
     "exception": false,
     "start_time": "2025-03-08T04:30:12.017302",
     "status": "completed"
    },
    "tags": []
   },
   "outputs": [
    {
     "data": {
      "text/plain": [
       "(442,)"
      ]
     },
     "execution_count": 7,
     "metadata": {},
     "output_type": "execute_result"
    }
   ],
   "source": [
    "y.shape"
   ]
  },
  {
   "cell_type": "markdown",
   "id": "168062e7",
   "metadata": {
    "papermill": {
     "duration": 0.006168,
     "end_time": "2025-03-08T04:30:12.046453",
     "exception": false,
     "start_time": "2025-03-08T04:30:12.040285",
     "status": "completed"
    },
    "tags": []
   },
   "source": [
    "# 1. Using Sklearn's Linear Regression"
   ]
  },
  {
   "cell_type": "code",
   "execution_count": 8,
   "id": "60fd667a",
   "metadata": {
    "execution": {
     "iopub.execute_input": "2025-03-08T04:30:12.060644Z",
     "iopub.status.busy": "2025-03-08T04:30:12.060278Z",
     "iopub.status.idle": "2025-03-08T04:30:12.182075Z",
     "shell.execute_reply": "2025-03-08T04:30:12.180743Z"
    },
    "papermill": {
     "duration": 0.13121,
     "end_time": "2025-03-08T04:30:12.184098",
     "exception": false,
     "start_time": "2025-03-08T04:30:12.052888",
     "status": "completed"
    },
    "tags": []
   },
   "outputs": [],
   "source": [
    "from sklearn.model_selection import train_test_split"
   ]
  },
  {
   "cell_type": "code",
   "execution_count": 9,
   "id": "98ac551f",
   "metadata": {
    "execution": {
     "iopub.execute_input": "2025-03-08T04:30:12.198453Z",
     "iopub.status.busy": "2025-03-08T04:30:12.198111Z",
     "iopub.status.idle": "2025-03-08T04:30:12.203759Z",
     "shell.execute_reply": "2025-03-08T04:30:12.202674Z"
    },
    "papermill": {
     "duration": 0.015019,
     "end_time": "2025-03-08T04:30:12.205664",
     "exception": false,
     "start_time": "2025-03-08T04:30:12.190645",
     "status": "completed"
    },
    "tags": []
   },
   "outputs": [],
   "source": [
    "x_train, x_test, y_train, y_test = train_test_split(x,y,test_size=0.2, random_state=2)"
   ]
  },
  {
   "cell_type": "code",
   "execution_count": 10,
   "id": "ea101d80",
   "metadata": {
    "execution": {
     "iopub.execute_input": "2025-03-08T04:30:12.220345Z",
     "iopub.status.busy": "2025-03-08T04:30:12.219945Z",
     "iopub.status.idle": "2025-03-08T04:30:12.226095Z",
     "shell.execute_reply": "2025-03-08T04:30:12.224883Z"
    },
    "papermill": {
     "duration": 0.015644,
     "end_time": "2025-03-08T04:30:12.227900",
     "exception": false,
     "start_time": "2025-03-08T04:30:12.212256",
     "status": "completed"
    },
    "tags": []
   },
   "outputs": [
    {
     "name": "stdout",
     "output_type": "stream",
     "text": [
      "(353, 10)\n",
      "(89, 10)\n",
      "(353,)\n",
      "(89,)\n"
     ]
    }
   ],
   "source": [
    "print(x_train.shape)\n",
    "print(x_test.shape)\n",
    "print(y_train.shape)\n",
    "print(y_test.shape)"
   ]
  },
  {
   "cell_type": "code",
   "execution_count": 11,
   "id": "4a25538d",
   "metadata": {
    "execution": {
     "iopub.execute_input": "2025-03-08T04:30:12.242899Z",
     "iopub.status.busy": "2025-03-08T04:30:12.242540Z",
     "iopub.status.idle": "2025-03-08T04:30:12.360489Z",
     "shell.execute_reply": "2025-03-08T04:30:12.359390Z"
    },
    "papermill": {
     "duration": 0.127404,
     "end_time": "2025-03-08T04:30:12.362425",
     "exception": false,
     "start_time": "2025-03-08T04:30:12.235021",
     "status": "completed"
    },
    "tags": []
   },
   "outputs": [],
   "source": [
    "from sklearn.linear_model import LinearRegression"
   ]
  },
  {
   "cell_type": "code",
   "execution_count": 12,
   "id": "fc34d6ca",
   "metadata": {
    "execution": {
     "iopub.execute_input": "2025-03-08T04:30:12.377041Z",
     "iopub.status.busy": "2025-03-08T04:30:12.376651Z",
     "iopub.status.idle": "2025-03-08T04:30:12.380770Z",
     "shell.execute_reply": "2025-03-08T04:30:12.379679Z"
    },
    "papermill": {
     "duration": 0.013531,
     "end_time": "2025-03-08T04:30:12.382454",
     "exception": false,
     "start_time": "2025-03-08T04:30:12.368923",
     "status": "completed"
    },
    "tags": []
   },
   "outputs": [],
   "source": [
    "reg = LinearRegression()"
   ]
  },
  {
   "cell_type": "code",
   "execution_count": 13,
   "id": "56e570d4",
   "metadata": {
    "execution": {
     "iopub.execute_input": "2025-03-08T04:30:12.396852Z",
     "iopub.status.busy": "2025-03-08T04:30:12.396446Z",
     "iopub.status.idle": "2025-03-08T04:30:12.464437Z",
     "shell.execute_reply": "2025-03-08T04:30:12.463128Z"
    },
    "papermill": {
     "duration": 0.077339,
     "end_time": "2025-03-08T04:30:12.466446",
     "exception": false,
     "start_time": "2025-03-08T04:30:12.389107",
     "status": "completed"
    },
    "tags": []
   },
   "outputs": [
    {
     "data": {
      "text/html": [
       "<style>#sk-container-id-1 {color: black;background-color: white;}#sk-container-id-1 pre{padding: 0;}#sk-container-id-1 div.sk-toggleable {background-color: white;}#sk-container-id-1 label.sk-toggleable__label {cursor: pointer;display: block;width: 100%;margin-bottom: 0;padding: 0.3em;box-sizing: border-box;text-align: center;}#sk-container-id-1 label.sk-toggleable__label-arrow:before {content: \"▸\";float: left;margin-right: 0.25em;color: #696969;}#sk-container-id-1 label.sk-toggleable__label-arrow:hover:before {color: black;}#sk-container-id-1 div.sk-estimator:hover label.sk-toggleable__label-arrow:before {color: black;}#sk-container-id-1 div.sk-toggleable__content {max-height: 0;max-width: 0;overflow: hidden;text-align: left;background-color: #f0f8ff;}#sk-container-id-1 div.sk-toggleable__content pre {margin: 0.2em;color: black;border-radius: 0.25em;background-color: #f0f8ff;}#sk-container-id-1 input.sk-toggleable__control:checked~div.sk-toggleable__content {max-height: 200px;max-width: 100%;overflow: auto;}#sk-container-id-1 input.sk-toggleable__control:checked~label.sk-toggleable__label-arrow:before {content: \"▾\";}#sk-container-id-1 div.sk-estimator input.sk-toggleable__control:checked~label.sk-toggleable__label {background-color: #d4ebff;}#sk-container-id-1 div.sk-label input.sk-toggleable__control:checked~label.sk-toggleable__label {background-color: #d4ebff;}#sk-container-id-1 input.sk-hidden--visually {border: 0;clip: rect(1px 1px 1px 1px);clip: rect(1px, 1px, 1px, 1px);height: 1px;margin: -1px;overflow: hidden;padding: 0;position: absolute;width: 1px;}#sk-container-id-1 div.sk-estimator {font-family: monospace;background-color: #f0f8ff;border: 1px dotted black;border-radius: 0.25em;box-sizing: border-box;margin-bottom: 0.5em;}#sk-container-id-1 div.sk-estimator:hover {background-color: #d4ebff;}#sk-container-id-1 div.sk-parallel-item::after {content: \"\";width: 100%;border-bottom: 1px solid gray;flex-grow: 1;}#sk-container-id-1 div.sk-label:hover label.sk-toggleable__label {background-color: #d4ebff;}#sk-container-id-1 div.sk-serial::before {content: \"\";position: absolute;border-left: 1px solid gray;box-sizing: border-box;top: 0;bottom: 0;left: 50%;z-index: 0;}#sk-container-id-1 div.sk-serial {display: flex;flex-direction: column;align-items: center;background-color: white;padding-right: 0.2em;padding-left: 0.2em;position: relative;}#sk-container-id-1 div.sk-item {position: relative;z-index: 1;}#sk-container-id-1 div.sk-parallel {display: flex;align-items: stretch;justify-content: center;background-color: white;position: relative;}#sk-container-id-1 div.sk-item::before, #sk-container-id-1 div.sk-parallel-item::before {content: \"\";position: absolute;border-left: 1px solid gray;box-sizing: border-box;top: 0;bottom: 0;left: 50%;z-index: -1;}#sk-container-id-1 div.sk-parallel-item {display: flex;flex-direction: column;z-index: 1;position: relative;background-color: white;}#sk-container-id-1 div.sk-parallel-item:first-child::after {align-self: flex-end;width: 50%;}#sk-container-id-1 div.sk-parallel-item:last-child::after {align-self: flex-start;width: 50%;}#sk-container-id-1 div.sk-parallel-item:only-child::after {width: 0;}#sk-container-id-1 div.sk-dashed-wrapped {border: 1px dashed gray;margin: 0 0.4em 0.5em 0.4em;box-sizing: border-box;padding-bottom: 0.4em;background-color: white;}#sk-container-id-1 div.sk-label label {font-family: monospace;font-weight: bold;display: inline-block;line-height: 1.2em;}#sk-container-id-1 div.sk-label-container {text-align: center;}#sk-container-id-1 div.sk-container {/* jupyter's `normalize.less` sets `[hidden] { display: none; }` but bootstrap.min.css set `[hidden] { display: none !important; }` so we also need the `!important` here to be able to override the default hidden behavior on the sphinx rendered scikit-learn.org. See: https://github.com/scikit-learn/scikit-learn/issues/21755 */display: inline-block !important;position: relative;}#sk-container-id-1 div.sk-text-repr-fallback {display: none;}</style><div id=\"sk-container-id-1\" class=\"sk-top-container\"><div class=\"sk-text-repr-fallback\"><pre>LinearRegression()</pre><b>In a Jupyter environment, please rerun this cell to show the HTML representation or trust the notebook. <br />On GitHub, the HTML representation is unable to render, please try loading this page with nbviewer.org.</b></div><div class=\"sk-container\" hidden><div class=\"sk-item\"><div class=\"sk-estimator sk-toggleable\"><input class=\"sk-toggleable__control sk-hidden--visually\" id=\"sk-estimator-id-1\" type=\"checkbox\" checked><label for=\"sk-estimator-id-1\" class=\"sk-toggleable__label sk-toggleable__label-arrow\">LinearRegression</label><div class=\"sk-toggleable__content\"><pre>LinearRegression()</pre></div></div></div></div></div>"
      ],
      "text/plain": [
       "LinearRegression()"
      ]
     },
     "execution_count": 13,
     "metadata": {},
     "output_type": "execute_result"
    }
   ],
   "source": [
    "reg.fit(x_train,y_train)"
   ]
  },
  {
   "cell_type": "code",
   "execution_count": 14,
   "id": "927a43cf",
   "metadata": {
    "execution": {
     "iopub.execute_input": "2025-03-08T04:30:12.481357Z",
     "iopub.status.busy": "2025-03-08T04:30:12.480946Z",
     "iopub.status.idle": "2025-03-08T04:30:12.486941Z",
     "shell.execute_reply": "2025-03-08T04:30:12.485941Z"
    },
    "papermill": {
     "duration": 0.015342,
     "end_time": "2025-03-08T04:30:12.488734",
     "exception": false,
     "start_time": "2025-03-08T04:30:12.473392",
     "status": "completed"
    },
    "tags": []
   },
   "outputs": [],
   "source": [
    "y_pred = reg.predict(x_test)"
   ]
  },
  {
   "cell_type": "code",
   "execution_count": 15,
   "id": "53ad5b68",
   "metadata": {
    "execution": {
     "iopub.execute_input": "2025-03-08T04:30:12.503493Z",
     "iopub.status.busy": "2025-03-08T04:30:12.503117Z",
     "iopub.status.idle": "2025-03-08T04:30:12.507212Z",
     "shell.execute_reply": "2025-03-08T04:30:12.506134Z"
    },
    "papermill": {
     "duration": 0.013538,
     "end_time": "2025-03-08T04:30:12.508969",
     "exception": false,
     "start_time": "2025-03-08T04:30:12.495431",
     "status": "completed"
    },
    "tags": []
   },
   "outputs": [],
   "source": [
    "from sklearn.metrics import r2_score"
   ]
  },
  {
   "cell_type": "code",
   "execution_count": 16,
   "id": "52973e44",
   "metadata": {
    "execution": {
     "iopub.execute_input": "2025-03-08T04:30:12.523636Z",
     "iopub.status.busy": "2025-03-08T04:30:12.523227Z",
     "iopub.status.idle": "2025-03-08T04:30:12.529672Z",
     "shell.execute_reply": "2025-03-08T04:30:12.528631Z"
    },
    "papermill": {
     "duration": 0.015616,
     "end_time": "2025-03-08T04:30:12.531370",
     "exception": false,
     "start_time": "2025-03-08T04:30:12.515754",
     "status": "completed"
    },
    "tags": []
   },
   "outputs": [
    {
     "data": {
      "text/plain": [
       "0.4399338661568971"
      ]
     },
     "execution_count": 16,
     "metadata": {},
     "output_type": "execute_result"
    }
   ],
   "source": [
    "r2_score(y_test,y_pred)"
   ]
  },
  {
   "cell_type": "code",
   "execution_count": 17,
   "id": "df354dcb",
   "metadata": {
    "execution": {
     "iopub.execute_input": "2025-03-08T04:30:12.547172Z",
     "iopub.status.busy": "2025-03-08T04:30:12.546779Z",
     "iopub.status.idle": "2025-03-08T04:30:12.552467Z",
     "shell.execute_reply": "2025-03-08T04:30:12.551474Z"
    },
    "papermill": {
     "duration": 0.015328,
     "end_time": "2025-03-08T04:30:12.554093",
     "exception": false,
     "start_time": "2025-03-08T04:30:12.538765",
     "status": "completed"
    },
    "tags": []
   },
   "outputs": [
    {
     "data": {
      "text/plain": [
       "array([  -9.15865318, -205.45432163,  516.69374454,  340.61999905,\n",
       "       -895.5520019 ,  561.22067904,  153.89310954,  126.73139688,\n",
       "        861.12700152,   52.42112238])"
      ]
     },
     "execution_count": 17,
     "metadata": {},
     "output_type": "execute_result"
    }
   ],
   "source": [
    "reg.coef_"
   ]
  },
  {
   "cell_type": "code",
   "execution_count": 18,
   "id": "e0f927d0",
   "metadata": {
    "execution": {
     "iopub.execute_input": "2025-03-08T04:30:12.569365Z",
     "iopub.status.busy": "2025-03-08T04:30:12.568967Z",
     "iopub.status.idle": "2025-03-08T04:30:12.575186Z",
     "shell.execute_reply": "2025-03-08T04:30:12.573958Z"
    },
    "papermill": {
     "duration": 0.016162,
     "end_time": "2025-03-08T04:30:12.577198",
     "exception": false,
     "start_time": "2025-03-08T04:30:12.561036",
     "status": "completed"
    },
    "tags": []
   },
   "outputs": [
    {
     "data": {
      "text/plain": [
       "151.88331005254167"
      ]
     },
     "execution_count": 18,
     "metadata": {},
     "output_type": "execute_result"
    }
   ],
   "source": [
    "reg.intercept_"
   ]
  },
  {
   "cell_type": "markdown",
   "id": "13d20d24",
   "metadata": {
    "papermill": {
     "duration": 0.006625,
     "end_time": "2025-03-08T04:30:12.590843",
     "exception": false,
     "start_time": "2025-03-08T04:30:12.584218",
     "status": "completed"
    },
    "tags": []
   },
   "source": [
    "# 2. Making our own Linear Regression Class"
   ]
  },
  {
   "cell_type": "code",
   "execution_count": 19,
   "id": "624dfcc4",
   "metadata": {
    "execution": {
     "iopub.execute_input": "2025-03-08T04:30:12.606919Z",
     "iopub.status.busy": "2025-03-08T04:30:12.606512Z",
     "iopub.status.idle": "2025-03-08T04:30:12.612675Z",
     "shell.execute_reply": "2025-03-08T04:30:12.611394Z"
    },
    "papermill": {
     "duration": 0.016599,
     "end_time": "2025-03-08T04:30:12.614630",
     "exception": false,
     "start_time": "2025-03-08T04:30:12.598031",
     "status": "completed"
    },
    "tags": []
   },
   "outputs": [],
   "source": [
    "class MeraLR:\n",
    "    \n",
    "    def __init__(self):\n",
    "        self.coef_ = None\n",
    "        self.intercept_ = None\n",
    "        \n",
    "    def fit(self,X_train,y_train):\n",
    "        X_train = np.insert(X_train,0,1,axis=1)\n",
    "        # np.insert(row_name,place,value,axis(row or column))\n",
    "        \n",
    "        # calcuate the coeffs\n",
    "        betas = np.linalg.inv(np.dot(X_train.T,X_train)).dot(X_train.T).dot(y_train)\n",
    "        self.intercept_ = betas[0]\n",
    "        self.coef_ = betas[1:]\n",
    "    \n",
    "    def predict(self,X_test):\n",
    "        y_pred = np.dot(X_test,self.coef_) + self.intercept_\n",
    "        return y_pred"
   ]
  },
  {
   "cell_type": "markdown",
   "id": "fe945a81",
   "metadata": {
    "papermill": {
     "duration": 0.008007,
     "end_time": "2025-03-08T04:30:12.629646",
     "exception": false,
     "start_time": "2025-03-08T04:30:12.621639",
     "status": "completed"
    },
    "tags": []
   },
   "source": [
    "Link of np.linalg.inv fun documantry : https://numpy.org/doc/stable/reference/generated/numpy.linalg.inv.html"
   ]
  },
  {
   "cell_type": "code",
   "execution_count": 20,
   "id": "8c64a70d",
   "metadata": {
    "execution": {
     "iopub.execute_input": "2025-03-08T04:30:12.645851Z",
     "iopub.status.busy": "2025-03-08T04:30:12.645466Z",
     "iopub.status.idle": "2025-03-08T04:30:12.649614Z",
     "shell.execute_reply": "2025-03-08T04:30:12.648581Z"
    },
    "papermill": {
     "duration": 0.013997,
     "end_time": "2025-03-08T04:30:12.651473",
     "exception": false,
     "start_time": "2025-03-08T04:30:12.637476",
     "status": "completed"
    },
    "tags": []
   },
   "outputs": [],
   "source": [
    "lr = MeraLR()\n"
   ]
  },
  {
   "cell_type": "code",
   "execution_count": 21,
   "id": "c70efe58",
   "metadata": {
    "execution": {
     "iopub.execute_input": "2025-03-08T04:30:12.667005Z",
     "iopub.status.busy": "2025-03-08T04:30:12.666639Z",
     "iopub.status.idle": "2025-03-08T04:30:12.689205Z",
     "shell.execute_reply": "2025-03-08T04:30:12.688104Z"
    },
    "papermill": {
     "duration": 0.032684,
     "end_time": "2025-03-08T04:30:12.691231",
     "exception": false,
     "start_time": "2025-03-08T04:30:12.658547",
     "status": "completed"
    },
    "tags": []
   },
   "outputs": [],
   "source": [
    "lr.fit(x_train,y_train)"
   ]
  },
  {
   "cell_type": "code",
   "execution_count": 22,
   "id": "45519e6d",
   "metadata": {
    "execution": {
     "iopub.execute_input": "2025-03-08T04:30:12.706720Z",
     "iopub.status.busy": "2025-03-08T04:30:12.706354Z",
     "iopub.status.idle": "2025-03-08T04:30:12.711938Z",
     "shell.execute_reply": "2025-03-08T04:30:12.710964Z"
    },
    "papermill": {
     "duration": 0.015235,
     "end_time": "2025-03-08T04:30:12.713578",
     "exception": false,
     "start_time": "2025-03-08T04:30:12.698343",
     "status": "completed"
    },
    "tags": []
   },
   "outputs": [
    {
     "data": {
      "text/plain": [
       "(353, 10)"
      ]
     },
     "execution_count": 22,
     "metadata": {},
     "output_type": "execute_result"
    }
   ],
   "source": [
    "x_train.shape"
   ]
  },
  {
   "cell_type": "code",
   "execution_count": 23,
   "id": "c2b1215e",
   "metadata": {
    "execution": {
     "iopub.execute_input": "2025-03-08T04:30:12.729142Z",
     "iopub.status.busy": "2025-03-08T04:30:12.728708Z",
     "iopub.status.idle": "2025-03-08T04:30:12.735764Z",
     "shell.execute_reply": "2025-03-08T04:30:12.734387Z"
    },
    "papermill": {
     "duration": 0.017055,
     "end_time": "2025-03-08T04:30:12.737686",
     "exception": false,
     "start_time": "2025-03-08T04:30:12.720631",
     "status": "completed"
    },
    "tags": []
   },
   "outputs": [
    {
     "data": {
      "text/plain": [
       "array([[ 1.        , -0.00188202, -0.04464164, ..., -0.03949338,\n",
       "        -0.06291688,  0.04034337],\n",
       "       [ 1.        , -0.00914709, -0.04464164, ..., -0.03949338,\n",
       "         0.01703607, -0.0052198 ],\n",
       "       [ 1.        ,  0.02354575,  0.05068012, ..., -0.03949338,\n",
       "        -0.09643495, -0.01764613],\n",
       "       ...,\n",
       "       [ 1.        ,  0.06350368,  0.05068012, ..., -0.00259226,\n",
       "         0.08449153, -0.01764613],\n",
       "       [ 1.        , -0.05273755,  0.05068012, ...,  0.1081111 ,\n",
       "         0.03606033, -0.04249877],\n",
       "       [ 1.        ,  0.00175052,  0.05068012, ...,  0.1081111 ,\n",
       "         0.06898589,  0.12732762]])"
      ]
     },
     "execution_count": 23,
     "metadata": {},
     "output_type": "execute_result"
    }
   ],
   "source": [
    "np.insert(x_train,0,1,axis=1)\n",
    "# np.insert(row_name,place,value,axis(row or column))"
   ]
  },
  {
   "cell_type": "code",
   "execution_count": 24,
   "id": "1f0ddc54",
   "metadata": {
    "execution": {
     "iopub.execute_input": "2025-03-08T04:30:12.753028Z",
     "iopub.status.busy": "2025-03-08T04:30:12.752657Z",
     "iopub.status.idle": "2025-03-08T04:30:12.756919Z",
     "shell.execute_reply": "2025-03-08T04:30:12.755902Z"
    },
    "papermill": {
     "duration": 0.013757,
     "end_time": "2025-03-08T04:30:12.758574",
     "exception": false,
     "start_time": "2025-03-08T04:30:12.744817",
     "status": "completed"
    },
    "tags": []
   },
   "outputs": [],
   "source": [
    "y_pred = lr.predict(x_test)"
   ]
  },
  {
   "cell_type": "code",
   "execution_count": 25,
   "id": "ad8f0fbd",
   "metadata": {
    "execution": {
     "iopub.execute_input": "2025-03-08T04:30:12.773928Z",
     "iopub.status.busy": "2025-03-08T04:30:12.773593Z",
     "iopub.status.idle": "2025-03-08T04:30:12.780075Z",
     "shell.execute_reply": "2025-03-08T04:30:12.779015Z"
    },
    "papermill": {
     "duration": 0.016236,
     "end_time": "2025-03-08T04:30:12.781976",
     "exception": false,
     "start_time": "2025-03-08T04:30:12.765740",
     "status": "completed"
    },
    "tags": []
   },
   "outputs": [
    {
     "data": {
      "text/plain": [
       "0.43993386615689734"
      ]
     },
     "execution_count": 25,
     "metadata": {},
     "output_type": "execute_result"
    }
   ],
   "source": [
    "r2_score(y_test,y_pred)"
   ]
  },
  {
   "cell_type": "code",
   "execution_count": 26,
   "id": "493581c0",
   "metadata": {
    "execution": {
     "iopub.execute_input": "2025-03-08T04:30:12.798966Z",
     "iopub.status.busy": "2025-03-08T04:30:12.798625Z",
     "iopub.status.idle": "2025-03-08T04:30:12.804951Z",
     "shell.execute_reply": "2025-03-08T04:30:12.803897Z"
    },
    "papermill": {
     "duration": 0.017147,
     "end_time": "2025-03-08T04:30:12.806657",
     "exception": false,
     "start_time": "2025-03-08T04:30:12.789510",
     "status": "completed"
    },
    "tags": []
   },
   "outputs": [
    {
     "data": {
      "text/plain": [
       "array([  -9.15865318, -205.45432163,  516.69374454,  340.61999905,\n",
       "       -895.5520019 ,  561.22067904,  153.89310954,  126.73139688,\n",
       "        861.12700152,   52.42112238])"
      ]
     },
     "execution_count": 26,
     "metadata": {},
     "output_type": "execute_result"
    }
   ],
   "source": [
    "lr.coef_"
   ]
  },
  {
   "cell_type": "code",
   "execution_count": 27,
   "id": "671cb2e9",
   "metadata": {
    "execution": {
     "iopub.execute_input": "2025-03-08T04:30:12.822662Z",
     "iopub.status.busy": "2025-03-08T04:30:12.822320Z",
     "iopub.status.idle": "2025-03-08T04:30:12.828527Z",
     "shell.execute_reply": "2025-03-08T04:30:12.827254Z"
    },
    "papermill": {
     "duration": 0.015963,
     "end_time": "2025-03-08T04:30:12.830168",
     "exception": false,
     "start_time": "2025-03-08T04:30:12.814205",
     "status": "completed"
    },
    "tags": []
   },
   "outputs": [
    {
     "data": {
      "text/plain": [
       "151.88331005254167"
      ]
     },
     "execution_count": 27,
     "metadata": {},
     "output_type": "execute_result"
    }
   ],
   "source": [
    "lr.intercept_"
   ]
  }
 ],
 "metadata": {
  "kaggle": {
   "accelerator": "none",
   "dataSources": [],
   "dockerImageVersionId": 30918,
   "isGpuEnabled": false,
   "isInternetEnabled": true,
   "language": "python",
   "sourceType": "notebook"
  },
  "kernelspec": {
   "display_name": "Python 3",
   "language": "python",
   "name": "python3"
  },
  "language_info": {
   "codemirror_mode": {
    "name": "ipython",
    "version": 3
   },
   "file_extension": ".py",
   "mimetype": "text/x-python",
   "name": "python",
   "nbconvert_exporter": "python",
   "pygments_lexer": "ipython3",
   "version": "3.10.12"
  },
  "papermill": {
   "default_parameters": {},
   "duration": 7.126049,
   "end_time": "2025-03-08T04:30:13.559478",
   "environment_variables": {},
   "exception": null,
   "input_path": "__notebook__.ipynb",
   "output_path": "__notebook__.ipynb",
   "parameters": {},
   "start_time": "2025-03-08T04:30:06.433429",
   "version": "2.6.0"
  }
 },
 "nbformat": 4,
 "nbformat_minor": 5
}
